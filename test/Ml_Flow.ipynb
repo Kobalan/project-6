{
 "cells": [
  {
   "cell_type": "code",
   "execution_count": 2,
   "metadata": {},
   "outputs": [],
   "source": [
    "import mlflow\n",
    "from typing import Any\n",
    "from sklearn.datasets import make_classification\n",
    "from sklearn.model_selection import train_test_split\n",
    "from sklearn.ensemble import RandomForestClassifier,RandomForestRegressor\n",
    "import pandas as pd\n",
    "from mlflow import MlflowClient\n",
    "from mlflow.models import infer_signature"
   ]
  },
  {
   "cell_type": "code",
   "execution_count": 7,
   "metadata": {},
   "outputs": [
    {
     "name": "stdout",
     "output_type": "stream",
     "text": [
      "<Experiment: artifact_location='file:///d:/Python_Project/Final_Project/Zenml3/test/mlruns/250555265962494523', creation_time=1730442297912, experiment_id='250555265962494523', last_update_time=1730442297912, lifecycle_stage='active', name='testing3', tags={}>\n"
     ]
    }
   ],
   "source": [
    "# create a new mlflow experiment\n",
    "experiment_ID = mlflow.set_experiment(\"testing3\")\n",
    "print(experiment_ID)"
   ]
  },
  {
   "cell_type": "code",
   "execution_count": 8,
   "metadata": {},
   "outputs": [
    {
     "name": "stdout",
     "output_type": "stream",
     "text": [
      "Name: testing3\n",
      "Artifact Location: file:///d:/Python_Project/Final_Project/Zenml3/test/mlruns/250555265962494523\n",
      "Tags: {}\n",
      "Lifecycle_stage: active\n",
      "Creation timestamp: 1730442297912\n"
     ]
    }
   ],
   "source": [
    "# experiment_ID = mlflow.get_experiment(Ex_ID)\n",
    "# print(experiment_ID)\n",
    "\n",
    "print(\"Name: {}\".format(experiment_ID.name))\n",
    "print(\"Artifact Location: {}\".format(experiment_ID.artifact_location))\n",
    "print(\"Tags: {}\".format(experiment_ID.tags))\n",
    "print(\"Lifecycle_stage: {}\".format(experiment_ID.lifecycle_stage))\n",
    "print(\"Creation timestamp: {}\".format(experiment_ID.creation_time))"
   ]
  },
  {
   "cell_type": "code",
   "execution_count": 9,
   "metadata": {},
   "outputs": [
    {
     "name": "stdout",
     "output_type": "stream",
     "text": [
      "Experiment_id: 913954212252081847\n",
      "Artifact Location: file:///d:/Python_Project/Final_Project/Zenml3/test/ Artifacts\n",
      "Tags: {'env': 'dev', 'version': '1.0.0'}\n",
      "Lifecycle_stage: active\n",
      "Creation timestamp: 1730440967101\n"
     ]
    }
   ],
   "source": [
    "experiment_NAME = mlflow.get_experiment_by_name('testing')\n",
    "\n",
    "print(\"Experiment_id: {}\".format(experiment_NAME.experiment_id))\n",
    "print(\"Artifact Location: {}\".format(experiment_NAME.artifact_location))\n",
    "print(\"Tags: {}\".format(experiment_NAME.tags))\n",
    "print(\"Lifecycle_stage: {}\".format(experiment_NAME.lifecycle_stage))\n",
    "print(\"Creation timestamp: {}\".format(experiment_NAME.creation_time))"
   ]
  },
  {
   "cell_type": "code",
   "execution_count": 10,
   "metadata": {},
   "outputs": [],
   "source": [
    "#mlflow.delete_experiment(experiment_id=\"187165006531172946\")"
   ]
  },
  {
   "cell_type": "code",
   "execution_count": 11,
   "metadata": {},
   "outputs": [
    {
     "name": "stdout",
     "output_type": "stream",
     "text": [
      "Run ID\n",
      "8bbdd2c3089a4f5e893495e540f0593c\n",
      "<RunInfo: artifact_uri='file:///d:/Python_Project/Final_Project/Zenml3/test/mlruns/250555265962494523/8bbdd2c3089a4f5e893495e540f0593c/artifacts', end_time=None, experiment_id='250555265962494523', lifecycle_stage='active', run_id='8bbdd2c3089a4f5e893495e540f0593c', run_name='mlflow_runs', run_uuid='8bbdd2c3089a4f5e893495e540f0593c', start_time=1730978142751, status='RUNNING', user_id='User'>\n"
     ]
    }
   ],
   "source": [
    "# If not giving experiment ID Inside start_run it will automatically goes into default\n",
    "\n",
    "with mlflow.start_run(run_name=\"mlflow_runs\") as run:\n",
    "    # Your machine learning code goes here\n",
    "    mlflow.log_param(\"learning_rate\",0.01)\n",
    "    print(\"Run ID\")\n",
    "    print(run.info.run_id)\n",
    "    print(run.info)\n",
    "    mlflow.end_run()"
   ]
  },
  {
   "cell_type": "code",
   "execution_count": 12,
   "metadata": {},
   "outputs": [
    {
     "name": "stdout",
     "output_type": "stream",
     "text": [
      "Name: testing3\n",
      "run_id: c7557fc25cc2489eabce991ccd7253ff\n",
      "experiment_id: 250555265962494523\n",
      "status: RUNNING\n",
      "start_time: 1730978142865\n",
      "end_time: None\n",
      "lifecycle_stage: active\n"
     ]
    }
   ],
   "source": [
    "print(\"Name: {}\".format(experiment_ID.name))\n",
    "with mlflow.start_run(run_name=\"testing\", experiment_id = experiment_ID.experiment_id) as run:\n",
    "\n",
    "    # Your machine learning code goes here\n",
    "    mlflow.log_param(\"learning_rate\",0.01)\n",
    "    # print run info    \n",
    "    print(\"run_id: {}\".format(run.info.run_id))\n",
    "    print(\"experiment_id: {}\".format(run.info.experiment_id))\n",
    "    print(\"status: {}\".format(run.info.status))\n",
    "    print(\"start_time: {}\".format(run.info.start_time))\n",
    "    print(\"end_time: {}\".format(run.info.end_time))\n",
    "    print(\"lifecycle_stage: {}\".format(run.info.lifecycle_stage))"
   ]
  },
  {
   "cell_type": "code",
   "execution_count": 13,
   "metadata": {},
   "outputs": [],
   "source": [
    "with mlflow.start_run(run_name=\"logging_params\", experiment_id = experiment_ID.experiment_id) as run:\n",
    "\n",
    "    # Your machine learning code goes here\n",
    "    mlflow.log_param(\"learning_rate\", 0.01)\n",
    "\n",
    "    parameters = {\n",
    "        \"learning_rate\": 0.01,\n",
    "        \"epochs\": 10,\n",
    "        \"batch_size\": 100,\n",
    "        \"loss_function\": \"mse\",\n",
    "        \"optimizer\": \"adam\"\n",
    "    }\n",
    "\n",
    "    mlflow.log_params(parameters)"
   ]
  },
  {
   "cell_type": "code",
   "execution_count": 14,
   "metadata": {},
   "outputs": [],
   "source": [
    "with mlflow.start_run(run_name=\"logging_metrics\", experiment_id = experiment_ID.experiment_id) as run:\n",
    "    # Your machine learning code goes here\n",
    "\n",
    "    mlflow.log_metric(\"random_metric\", 0.01)\n",
    "\n",
    "    metrics = {\n",
    "        \"mse\": 0.01,\n",
    "        \"mae\": 0.01,\n",
    "        \"rmse\": 0.01,\n",
    "        \"r2\": 0.01\n",
    "    }\n",
    "\n",
    "    mlflow.log_metrics(metrics)"
   ]
  },
  {
   "cell_type": "code",
   "execution_count": 16,
   "metadata": {},
   "outputs": [],
   "source": [
    "# with mlflow.start_run(run_name=\"logging_artifacts\", experiment_id=experiment_ID.experiment_id) as run:\n",
    "#     # your machine learning code goes here\n",
    "#     mlflow.log_artifacts(local_dir=\"./runs_Artifacts\",artifact_path=\"run_artifacts\")"
   ]
  },
  {
   "cell_type": "code",
   "execution_count": null,
   "metadata": {},
   "outputs": [
    {
     "name": "stdout",
     "output_type": "stream",
     "text": [
      "Name: testing\n"
     ]
    },
    {
     "name": "stderr",
     "output_type": "stream",
     "text": [
      "2024/11/07 16:46:28 WARNING mlflow.models.model: Model logged without a signature and input example. Please set `input_example` parameter when logging the model to auto infer the model signature.\n"
     ]
    }
   ],
   "source": [
    "experiment = mlflow.get_experiment_by_name(\"testing\")\n",
    "print(\"Name: {}\".format(experiment.name))\n",
    "\n",
    "with mlflow.start_run(run_name=\"logging_models\", experiment_id=experiment.experiment_id) as run:\n",
    "\n",
    "    \n",
    "    X, y = make_classification(n_samples=1000, n_features=10, n_informative=5, n_redundant=5, random_state=42)\n",
    "    X_train, X_test, y_train, y_test = train_test_split(X, y, test_size=0.2, random_state=43)\n",
    "\n",
    "    rfc = RandomForestClassifier(n_estimators=100, random_state=42)\n",
    "    rfc.fit(X_train, y_train)\n",
    "    y_pred = rfc.predict(X_test)\n",
    "\n",
    "    # log model \n",
    "    mlflow.sklearn.log_model(sk_model=rfc, artifact_path=\"random_forest_classifier\")"
   ]
  },
  {
   "cell_type": "code",
   "execution_count": 18,
   "metadata": {},
   "outputs": [],
   "source": [
    "#experiment = mlflow.get_experiment_by_name(\"testing\")\n",
    "\n",
    "with mlflow.start_run(run_name=\"logging_models2\", experiment_id=experiment.experiment_id) as run:\n",
    "\n",
    "    \n",
    "    X, y = make_classification(n_samples=1000, n_features=10, n_informative=5, n_redundant=5, random_state=42)\n",
    "    X_train, X_test, y_train, y_test = train_test_split(X, y, test_size=0.2, random_state=43)\n",
    "\n",
    "    # log model using autolog\n",
    "    # mlflow.autolog()\n",
    "    mlflow.sklearn.autolog()\n",
    "\n",
    "    rfc = RandomForestClassifier(n_estimators=100, random_state=42)\n",
    "    rfc.fit(X_train, y_train)\n",
    "    y_pred = rfc.predict(X_test)\n",
    "    \n",
    "    # log model \n",
    "    #mlflow.sklearn.log_model(sk_model=rfc, artifact_path=\"random_forest_classifier\")"
   ]
  },
  {
   "cell_type": "code",
   "execution_count": null,
   "metadata": {},
   "outputs": [
    {
     "name": "stderr",
     "output_type": "stream",
     "text": [
      "2024/11/08 10:28:00 WARNING mlflow.models.model: Model logged without a signature and input example. Please set `input_example` parameter when logging the model to auto infer the model signature.\n"
     ]
    }
   ],
   "source": [
    "experiment_ID = mlflow.set_experiment(\"testing3\")\n",
    "with mlflow.start_run(run_name=\"mlflow_test\",experiment_id=experiment_ID.experiment_id) as run:\n",
    "    # Your machine learning code goes here\n",
    "\n",
    "    X, y = make_classification(n_samples=1000, n_features=10, n_informative=5, n_redundant=5, random_state=42)\n",
    "    X_train, X_test, y_train, y_test = train_test_split(X, y, test_size=0.2)\n",
    "\n",
    "    rfc = RandomForestClassifier(n_estimators=100)\n",
    "    rfc.fit(X_train, y_train)\n",
    "    y_pred = rfc.predict(X_test)\n",
    "\n",
    "    # log model \n",
    "    mlflow.sklearn.log_model(sk_model=rfc, artifact_path=\"random_forest_classifier\")\n",
    "\n",
    "    parameters = {\n",
    "        \"learning_rate\": 0.01,\n",
    "        \"epochs\": 10,\n",
    "        \"batch_size\": 100,\n",
    "        \"loss_function\": \"mse\",\n",
    "        \"optimizer\": \"adam\"\n",
    "    }\n",
    "\n",
    "    mlflow.log_params(parameters)\n",
    "    metrics = {\n",
    "        \"mse\": 0.01,\n",
    "        \"mae\": 0.01,\n",
    "        \"rmse\": 0.01,\n",
    "        \"r2\": 0.01\n",
    "    }\n",
    "    #mlflow.log_input(make_classification())\n",
    "    mlflow.log_metrics(metrics)"
   ]
  },
  {
   "cell_type": "code",
   "execution_count": 5,
   "metadata": {},
   "outputs": [
    {
     "name": "stdout",
     "output_type": "stream",
     "text": [
      "[[-5.93574666e-02 -8.10759221e-01 -1.46291185e+00 -3.48552007e-03\n",
      "   6.83381102e-01  1.06597486e+00  4.72195082e-02 -7.13334922e-01\n",
      "  -3.87790675e-01  3.09755360e-01]\n",
      " [ 1.35040799e+00  4.22073174e+00  1.56416182e+00 -4.77134691e-02\n",
      "  -3.37819408e+00 -1.17383793e+00  1.25372127e+00 -1.35261676e+00\n",
      "   5.61645459e-01  3.05553349e+00]\n",
      " [ 1.06995768e+00  3.02959431e+00 -2.68448393e+00  5.31619869e+00\n",
      "   8.67741972e-01  1.15899070e-01  3.53407179e+00  1.67460575e+00\n",
      "   1.48977560e+00  3.73480128e-02]\n",
      " [-1.89435743e-01  2.40747954e-01 -6.85548652e-01  9.91412258e-01\n",
      "   5.37921099e-01 -5.35367577e-01  8.44468366e-02  3.03646532e-01\n",
      "  -8.00903443e-03 -5.21775946e-01]\n",
      " [-1.57106178e+00 -9.66056861e-01 -9.32836146e-02 -1.40022220e+00\n",
      "  -1.93992986e+00  6.98771824e-01  7.28242696e-01 -1.21845781e+00\n",
      "  -1.44335116e+00 -5.00998230e-02]]\n"
     ]
    }
   ],
   "source": [
    "print(X[:5])"
   ]
  },
  {
   "cell_type": "code",
   "execution_count": 19,
   "metadata": {},
   "outputs": [
    {
     "ename": "NameError",
     "evalue": "name 'Stop' is not defined",
     "output_type": "error",
     "traceback": [
      "\u001b[1;31m---------------------------------------------------------------------------\u001b[0m",
      "\u001b[1;31mNameError\u001b[0m                                 Traceback (most recent call last)",
      "Cell \u001b[1;32mIn[19], line 1\u001b[0m\n\u001b[1;32m----> 1\u001b[0m \u001b[43mStop\u001b[49m\n",
      "\u001b[1;31mNameError\u001b[0m: name 'Stop' is not defined"
     ]
    }
   ],
   "source": [
    "Stop"
   ]
  },
  {
   "cell_type": "code",
   "execution_count": null,
   "metadata": {},
   "outputs": [],
   "source": [
    "\n",
    "run_id = \"85ca6be44afa4e28ace6df23c252e153\"\n",
    "    \n",
    "X, y = make_classification(n_samples=1000, n_features=10, n_informative=5, n_redundant=5, random_state=42)\n",
    "X = pd.DataFrame(X, columns=[\"feature_{}\".format(i) for i in range(10)])\n",
    "y = pd.DataFrame(y, columns=[\"target\"])\n",
    "\n",
    "_, X_test, _, y_test = train_test_split(X, y, test_size=0.2, random_state=43)\n",
    "run_id='a934feef31a34ae5bc192aba5f7e9490'\n",
    "\n",
    "# load model\n",
    " \n",
    "# model_uri = f'runs:/{run_id}/random_forest_classifier'\n",
    "model_uri = f\"file:///d:/Python_Class/Practice/MLFlow_Practice/ Artifacts/a934feef31a34ae5bc192aba5f7e9490/artifacts/random_forest_classifier\"\n",
    "rfc = mlflow.sklearn.load_model(model_uri=model_uri,)\n",
    "\n",
    "y_pred = rfc.predict(X_test)\n",
    "y_pred = pd.DataFrame(y_pred, columns=[\"prediction\"])\n",
    "\n",
    "print(y_pred.head())"
   ]
  },
  {
   "cell_type": "code",
   "execution_count": null,
   "metadata": {},
   "outputs": [],
   "source": [
    "class CustomModel(mlflow.pyfunc.PythonModel):\n",
    "\n",
    "    def predict(self, context, model_input):\n",
    "        return model_input\n",
    "\n",
    "\n",
    "if __name__ == \"__main__\":\n",
    "    experiment_id = mlflow.create_experiment(\n",
    "        name=\"model_registry\",\n",
    "        artifact_location=\"model_registry_artifacts\",\n",
    "        tags={\"purpose\": \"learning\"},\n",
    "    )\n",
    "\n",
    "    with mlflow.start_run(run_name=\"model_registry\") as run:\n",
    "        model = CustomModel()\n",
    "        mlflow.pyfunc.log_model(artifact_path=\"custom_model\", python_model=model, registered_model_name=\"CustomModel\")\n",
    "        mlflow.sklearn.log_model(artifact_path=\"rfr_model\", sk_model=RandomForestRegressor(), registered_model_name=\"RandomForestRegressor\")\n",
    "        mlflow.sklearn.log_model(artifact_path=\"rft_model2\", sk_model=RandomForestRegressor())\n",
    "            "
   ]
  },
  {
   "cell_type": "code",
   "execution_count": null,
   "metadata": {},
   "outputs": [],
   "source": [
    "experiment_id = mlflow.create_experiment(\n",
    "    experiment_name=\"model_registry\",\n",
    "    artifact_location=\"model_registry_artifacts\",\n",
    "    tags={\"purpose\": \"learning\"},\n",
    ")\n",
    "\n",
    "print(experiment_id)\n",
    "\n",
    "client = MlflowClient()\n",
    "model_name = \"registered_model_1\"\n",
    "\n",
    "# create registered model\n",
    "# client.create_registered_model(model_name)\n",
    "\n",
    "# create model version \n",
    "# source = \"file:///C:/Users/manue/Documents/projects/mlflow_for_ml_dev/model_registry_artifacts/da1d5bd925d94977af9247904b43cacd/artifacts/rft_model2\"\n",
    "# run_id = \"da1d5bd925d94977af9247904b43cacd\"\n",
    "# client.create_model_version(name=model_name, source=source, run_id=run_id)\n",
    "\n",
    "# transition model version stage \n",
    "# client.transition_model_version_stage(name=model_name, version=1, stage=\"Archived\")\n",
    "\n",
    "# delete model version \n",
    "# client.delete_model_version(name=model_name, version=1)\n",
    "\n",
    "# delete registered model\n",
    "# client.delete_registered_model(name=model_name)"
   ]
  },
  {
   "cell_type": "code",
   "execution_count": null,
   "metadata": {},
   "outputs": [],
   "source": [
    "# adding description to registired model.\n",
    "client.update_registered_model(name=model_name, description=\"This is a test model\")\n",
    "\n",
    "# adding tags to registired model.\n",
    "client.set_registered_model_tag(name=model_name, key=\"tag1\", value=\"value1\")\n",
    "\n",
    "# adding description to model version.\n",
    "client.update_model_version(name=model_name, version=1, description=\"This is a test model version\")\n",
    "\n",
    "# adding tags to model version.\n",
    "client.set_model_version_tag(name=model_name, version=1, key=\"tag1\", value=\"value1\")"
   ]
  }
 ],
 "metadata": {
  "kernelspec": {
   "display_name": ".venv",
   "language": "python",
   "name": "python3"
  },
  "language_info": {
   "codemirror_mode": {
    "name": "ipython",
    "version": 3
   },
   "file_extension": ".py",
   "mimetype": "text/x-python",
   "name": "python",
   "nbconvert_exporter": "python",
   "pygments_lexer": "ipython3",
   "version": "3.12.0"
  }
 },
 "nbformat": 4,
 "nbformat_minor": 2
}
